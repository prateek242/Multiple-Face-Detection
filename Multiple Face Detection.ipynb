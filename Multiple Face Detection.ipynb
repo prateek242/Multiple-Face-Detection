{
 "cells": [
  {
   "cell_type": "code",
   "execution_count": 7,
   "metadata": {},
   "outputs": [],
   "source": [
    "import cv2\n",
    "import time\n",
    "face_model = cv2.CascadeClassifier('haarcascade_frontalface_default.xml')"
   ]
  },
  {
   "cell_type": "code",
   "execution_count": null,
   "metadata": {},
   "outputs": [],
   "source": [
    "photo.shape"
   ]
  },
  {
   "cell_type": "code",
   "execution_count": null,
   "metadata": {},
   "outputs": [],
   "source": [
    "cphoto = cv2.resize(photo,(900,600))"
   ]
  },
  {
   "cell_type": "code",
   "execution_count": null,
   "metadata": {},
   "outputs": [],
   "source": [
    "cphoto.shape"
   ]
  },
  {
   "cell_type": "code",
   "execution_count": 15,
   "metadata": {},
   "outputs": [],
   "source": [
    "photo = cv2.imread(\"face_image.jpeg\")\n",
    "faces = face_model.detectMultiScale(photo,1.3,5)\n",
    "if faces is ():\n",
    "    pass\n",
    "count = 0\n",
    "for (x,y,w,h) in faces:\n",
    "    photo = cv2.rectangle(photo,(x,y),(x+w,y+h),(255,0,0),2)\n",
    "    count = count + 1\n",
    "    \n",
    "cv2.putText(photo,str(count),(50,50),cv2.FONT_HERSHEY_COMPLEX,2,(0,0,255),5)\n",
    "resize_photo = cv2.resize(photo,(int(photo.shape[1]/2),int(photo.shape[0]/2)))\n",
    "cv2.imshow(\"Multiple face detection\",photo)\n",
    "cv2.waitKey()\n",
    "cv2.destroyAllWindows()"
   ]
  },
  {
   "cell_type": "code",
   "execution_count": null,
   "metadata": {},
   "outputs": [],
   "source": []
  }
 ],
 "metadata": {
  "kernelspec": {
   "display_name": "Python 3",
   "language": "python",
   "name": "python3"
  },
  "language_info": {
   "codemirror_mode": {
    "name": "ipython",
    "version": 3
   },
   "file_extension": ".py",
   "mimetype": "text/x-python",
   "name": "python",
   "nbconvert_exporter": "python",
   "pygments_lexer": "ipython3",
   "version": "3.7.3"
  }
 },
 "nbformat": 4,
 "nbformat_minor": 2
}
